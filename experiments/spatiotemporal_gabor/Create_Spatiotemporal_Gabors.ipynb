{
 "cells": [
  {
   "cell_type": "code",
   "execution_count": 12,
   "id": "minimal-heating",
   "metadata": {},
   "outputs": [],
   "source": [
    "import itertools\n",
    "import os\n",
    "\n",
    "import cv2\n",
    "import numpy as np\n",
    "import oct2py\n",
    "\n",
    "from nemo.data.preprocess.image import center_crop, max_min_scale\n",
    "from nemo.model.analysis.feature_visualization import write_complex_cell_strfs\n",
    "from nemo.model.openpv_utils import np_to_pvp_shared_weight_file, read_complex_cell_weight_files"
   ]
  },
  {
   "cell_type": "markdown",
   "id": "earlier-dance",
   "metadata": {},
   "source": [
    "## Create Spatio-Temporal Gabor Filter Bank"
   ]
  },
  {
   "cell_type": "markdown",
   "id": "visible-surfing",
   "metadata": {},
   "source": [
    "### Filter Bank Parameters"
   ]
  },
  {
   "cell_type": "code",
   "execution_count": 2,
   "id": "unexpected-hostel",
   "metadata": {},
   "outputs": [],
   "source": [
    "speeds = [0, 0.25, 0.5, 1.0]\n",
    "orientations = list(range(-330, 390, 30))\n",
    "phases = [0, np.pi / 2]\n",
    "envelope_speeds = [0, 0.25, 0.5, 1.0]\n",
    "bandwidths = [3.0]\n",
    "size = 48\n",
    "cyc_per_degs = [0.02, 0.04, 0.09, 0.18]\n",
    "size_cyc_per_deg = 0.035\n",
    "n_frames = 9"
   ]
  },
  {
   "cell_type": "code",
   "execution_count": 3,
   "id": "raised-melissa",
   "metadata": {},
   "outputs": [],
   "source": [
    "def crop_kernel(k):\n",
    "    ''' Crop moving gabor kernels such that the gabor moves from one end to the other. '''\n",
    "    \n",
    "    ksize = k.shape[0]\n",
    "    \n",
    "    std_time = np.std(k, -1)\n",
    "    mean_std = np.mean(std_time)\n",
    "    std_time[std_time < mean_std] = 0.0\n",
    "    colsum = np.sum(std_time, 0)\n",
    "    rowsum = np.sum(std_time, 1)\n",
    "    r_above = rowsum[:k.shape[0] // 2]\n",
    "    r_below = rowsum[k.shape[0] // 2:]\n",
    "    c_left = colsum[:k.shape[1] // 2]\n",
    "    c_right = colsum[k.shape[1] // 2:]\n",
    "    zero_above = r_above[r_above == 0].size\n",
    "    zero_below = r_below[r_below == 0].size\n",
    "    zero_left = c_left[c_left == 0].size\n",
    "    zero_right = c_right[c_right == 0].size\n",
    "    \n",
    "    start_r = max(zero_above, 0)\n",
    "    start_c = max(zero_left, 0)\n",
    "    end_r = min(ksize - zero_below + 2, ksize)\n",
    "    end_c = min(ksize - zero_right + 2, ksize)\n",
    "    k = k[start_r:end_r, start_c:end_c]\n",
    "    \n",
    "    if k.shape[0] < ksize:\n",
    "        h_diff = ksize - k.shape[0]\n",
    "        pad_h = (int(np.ceil(h_diff / 2)), int(np.floor(h_diff / 2)))\n",
    "        k = np.pad(k, (pad_h, (0, 0), (0, 0)))\n",
    "    if k.shape[1] < ksize:\n",
    "        w_diff = ksize - k.shape[1]\n",
    "        pad_w = (int(np.ceil(w_diff / 2)), int(np.floor(w_diff / 2)))\n",
    "        k = np.pad(k, ((0, 0), pad_w, (0, 0)))\n",
    "    \n",
    "    return k"
   ]
  },
  {
   "cell_type": "code",
   "execution_count": 4,
   "id": "spoken-symphony",
   "metadata": {},
   "outputs": [],
   "source": [
    "def create_spatio_temporal_gabor_pyramid(speeds, orientations, phases, envelope_speeds, \n",
    "                                         bandwidths, size, n_frames, cyc_per_degs, size_cyc_per_deg):\n",
    "    ''' Creates a bank of spatio-temporal gabors. '''\n",
    "    \n",
    "    fparam_combos = itertools.product(speeds, orientations, phases, envelope_speeds, bandwidths)\n",
    "    fbank = np.zeros([0, size, size, n_frames])\n",
    "    \n",
    "    for fnum, (speed, orientation, phase, envelope_speed, bandwidth) in enumerate(fparam_combos):\n",
    "        kernel = oct2py.octave.GaborKernel3d(\n",
    "            speed, \n",
    "            orientation,\n",
    "            phase,\n",
    "            envelope_speed,\n",
    "            bandwidth\n",
    "        )\n",
    "        if np.amax(kernel) < 1e-16: continue\n",
    "        temp_start = kernel.shape[-1] // 2 - 1\n",
    "        kernel = kernel[:-1, :-1, temp_start:temp_start + n_frames]\n",
    "        \n",
    "        if speed > 0 and envelope_speed > 0:\n",
    "            kernel = crop_kernel(kernel)\n",
    "\n",
    "        for i, cyc_per_deg in enumerate(cyc_per_degs):\n",
    "            new_size = int(cyc_per_deg * size / size_cyc_per_deg)\n",
    "            kernel_resize = cv2.resize(kernel, (new_size, new_size))\n",
    "            \n",
    "            if kernel_resize.shape[0] > size:\n",
    "                kernel_resize = center_crop(kernel_resize, size, size)\n",
    "            elif kernel_resize.shape[0] < size:\n",
    "                pad = size - kernel_resize.shape[0]\n",
    "                kernel_resize = np.pad(\n",
    "                    kernel_resize,\n",
    "                    (\n",
    "                        (int(np.ceil(pad / 2)), int(np.floor(pad / 2))),\n",
    "                        (int(np.ceil(pad / 2)), int(np.floor(pad / 2))),\n",
    "                        (0, 0)\n",
    "                    )\n",
    "                )\n",
    "                \n",
    "            if kernel_resize.shape[-1] < n_frames:\n",
    "                pad = n_frames - kernel_resize.shape[-1]\n",
    "                kernel_resize = np.pad(\n",
    "                    kernel_resize,\n",
    "                    (\n",
    "                        (0, 0),\n",
    "                        (0, 0),\n",
    "                        (int(np.ceil(pad / 2)), int(np.floor(pad / 2)))\n",
    "                    )\n",
    "                )\n",
    "                \n",
    "            fbank = np.concatenate((fbank, kernel_resize[None, ...]))\n",
    "            \n",
    "    repeats = []\n",
    "    for i in range(fbank.shape[0]):\n",
    "        for j in range(i + 1, fbank.shape[0]):\n",
    "            if j in repeats: continue\n",
    "            if np.sum(fbank[i] - fbank[j]) == 0:\n",
    "                repeats.append(j)\n",
    "        \n",
    "    fbank = np.delete(fbank, repeats, 0)\n",
    "    fbank = max_min_scale(fbank) * .2 - .1\n",
    "    \n",
    "    return fbank"
   ]
  },
  {
   "cell_type": "code",
   "execution_count": 5,
   "id": "stopped-trailer",
   "metadata": {},
   "outputs": [],
   "source": [
    "fbank = create_spatio_temporal_gabor_pyramid(\n",
    "    speeds, \n",
    "    orientations, \n",
    "    phases, \n",
    "    envelope_speeds, \n",
    "    bandwidths, \n",
    "    size, \n",
    "    n_frames,\n",
    "    cyc_per_degs,\n",
    "    size_cyc_per_deg\n",
    ")"
   ]
  },
  {
   "cell_type": "code",
   "execution_count": 6,
   "id": "amended-watershed",
   "metadata": {},
   "outputs": [
    {
     "data": {
      "text/plain": [
       "(1343, 48, 48, 9)"
      ]
     },
     "execution_count": 6,
     "metadata": {},
     "output_type": "execute_result"
    }
   ],
   "source": [
    "fbank.shape"
   ]
  },
  {
   "cell_type": "markdown",
   "id": "ignored-capitol",
   "metadata": {},
   "source": [
    "### Writing the Filters to Disk as PVP Files"
   ]
  },
  {
   "cell_type": "code",
   "execution_count": 7,
   "id": "streaming-horror",
   "metadata": {},
   "outputs": [],
   "source": [
    "tensors = [np.expand_dims(fbank[..., frame].transpose([2, 1, 0]), 2) for frame in range(fbank.shape[-1])]"
   ]
  },
  {
   "cell_type": "code",
   "execution_count": 8,
   "id": "suburban-orientation",
   "metadata": {},
   "outputs": [],
   "source": [
    "fpaths = [os.path.join('Gabors', 'S1ToFrame{}ReconError_W.pvp'.format(frame)) for frame in range(fbank.shape[-1])]"
   ]
  },
  {
   "cell_type": "code",
   "execution_count": 9,
   "id": "under-chamber",
   "metadata": {},
   "outputs": [],
   "source": [
    "np_to_pvp_shared_weight_file(tensors, fpaths, '/home/mteti/OpenPV/mlab/util')"
   ]
  },
  {
   "cell_type": "markdown",
   "id": "diagnostic-photograph",
   "metadata": {},
   "source": [
    "### Check the Written PVP Weight Files by Viewing the Weights"
   ]
  },
  {
   "cell_type": "code",
   "execution_count": 13,
   "id": "polish-williams",
   "metadata": {},
   "outputs": [],
   "source": [
    "pvp_fpaths = [os.path.join('Gabors', f) for f in os.listdir('Gabors')]\n",
    "pvp_fpaths.sort()\n",
    "weight_tensors = read_complex_cell_weight_files(pvp_fpaths)\n",
    "write_complex_cell_strfs(weight_tensors, 'features.gif')"
   ]
  },
  {
   "cell_type": "code",
   "execution_count": null,
   "id": "future-minute",
   "metadata": {},
   "outputs": [],
   "source": []
  }
 ],
 "metadata": {
  "kernelspec": {
   "display_name": "Python 3",
   "language": "python",
   "name": "python3"
  },
  "language_info": {
   "codemirror_mode": {
    "name": "ipython",
    "version": 3
   },
   "file_extension": ".py",
   "mimetype": "text/x-python",
   "name": "python",
   "nbconvert_exporter": "python",
   "pygments_lexer": "ipython3",
   "version": "3.7.10"
  }
 },
 "nbformat": 4,
 "nbformat_minor": 5
}
